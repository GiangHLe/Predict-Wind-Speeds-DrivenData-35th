{
 "cells": [
  {
   "cell_type": "code",
   "execution_count": 1,
   "metadata": {},
   "outputs": [],
   "source": [
    "import pandas as pd\n",
    "import numpy as np\n",
    "from sklearn.model_selection import KFold"
   ]
  },
  {
   "cell_type": "code",
   "execution_count": 4,
   "metadata": {},
   "outputs": [],
   "source": [
    "import pandas as pd\n",
    "import matplotlib.pyplot as plt\n",
    "import seaborn as sns\n",
    "import numpy as np\n",
    "from scipy.stats import norm\n",
    "from sklearn.preprocessing import StandardScaler\n",
    "from scipy import stats\n",
    "import warnings\n",
    "warnings.filterwarnings('ignore')\n",
    "%matplotlib inline"
   ]
  },
  {
   "cell_type": "code",
   "execution_count": 7,
   "metadata": {},
   "outputs": [
    {
     "data": {
      "text/html": [
       "<div>\n",
       "<style scoped>\n",
       "    .dataframe tbody tr th:only-of-type {\n",
       "        vertical-align: middle;\n",
       "    }\n",
       "\n",
       "    .dataframe tbody tr th {\n",
       "        vertical-align: top;\n",
       "    }\n",
       "\n",
       "    .dataframe thead th {\n",
       "        text-align: right;\n",
       "    }\n",
       "</style>\n",
       "<table border=\"1\" class=\"dataframe\">\n",
       "  <thead>\n",
       "    <tr style=\"text-align: right;\">\n",
       "      <th></th>\n",
       "      <th>image_id</th>\n",
       "      <th>storm_id</th>\n",
       "      <th>relative_time</th>\n",
       "      <th>ocean</th>\n",
       "      <th>wind_speed</th>\n",
       "    </tr>\n",
       "  </thead>\n",
       "  <tbody>\n",
       "    <tr>\n",
       "      <th>0</th>\n",
       "      <td>abs_000</td>\n",
       "      <td>abs</td>\n",
       "      <td>0</td>\n",
       "      <td>2</td>\n",
       "      <td>43</td>\n",
       "    </tr>\n",
       "    <tr>\n",
       "      <th>1</th>\n",
       "      <td>abs_001</td>\n",
       "      <td>abs</td>\n",
       "      <td>1800</td>\n",
       "      <td>2</td>\n",
       "      <td>44</td>\n",
       "    </tr>\n",
       "    <tr>\n",
       "      <th>2</th>\n",
       "      <td>abs_002</td>\n",
       "      <td>abs</td>\n",
       "      <td>5400</td>\n",
       "      <td>2</td>\n",
       "      <td>45</td>\n",
       "    </tr>\n",
       "    <tr>\n",
       "      <th>3</th>\n",
       "      <td>abs_003</td>\n",
       "      <td>abs</td>\n",
       "      <td>17999</td>\n",
       "      <td>2</td>\n",
       "      <td>52</td>\n",
       "    </tr>\n",
       "    <tr>\n",
       "      <th>4</th>\n",
       "      <td>abs_004</td>\n",
       "      <td>abs</td>\n",
       "      <td>19799</td>\n",
       "      <td>2</td>\n",
       "      <td>53</td>\n",
       "    </tr>\n",
       "  </tbody>\n",
       "</table>\n",
       "</div>"
      ],
      "text/plain": [
       "  image_id storm_id  relative_time  ocean  wind_speed\n",
       "0  abs_000      abs              0      2          43\n",
       "1  abs_001      abs           1800      2          44\n",
       "2  abs_002      abs           5400      2          45\n",
       "3  abs_003      abs          17999      2          52\n",
       "4  abs_004      abs          19799      2          53"
      ]
     },
     "execution_count": 7,
     "metadata": {},
     "output_type": "execute_result"
    }
   ],
   "source": [
    "path1 = './../data/training_set_labels.csv'\n",
    "path2 = './../data/training_set_features.csv'\n",
    "test_path = './../data/test_set_features.csv'\n",
    "df1 = pd.read_csv(path1)\n",
    "df_train = pd.read_csv(path2)\n",
    "df_test = pd.read_csv(test_path)\n",
    "target = df1.wind_speed\n",
    "df_train['wind_speed'] = target\n",
    "test_df = pd.read_csv(test_path)\n",
    "df_train.head()"
   ]
  },
  {
   "cell_type": "code",
   "execution_count": 8,
   "metadata": {},
   "outputs": [
    {
     "data": {
      "text/plain": [
       "count    70257.000000\n",
       "mean        50.344008\n",
       "std         26.795277\n",
       "min         15.000000\n",
       "25%         30.000000\n",
       "50%         43.000000\n",
       "75%         62.000000\n",
       "max        185.000000\n",
       "Name: wind_speed, dtype: float64"
      ]
     },
     "execution_count": 8,
     "metadata": {},
     "output_type": "execute_result"
    }
   ],
   "source": [
    "df_train['wind_speed'].describe()"
   ]
  },
  {
   "cell_type": "code",
   "execution_count": 20,
   "metadata": {},
   "outputs": [
    {
     "name": "stdout",
     "output_type": "stream",
     "text": [
      "227\n",
      "371\n",
      "371\n"
     ]
    }
   ],
   "source": [
    "name_train = set(list(df_train.storm_id))\n",
    "name_test = set(list(df_test.storm_id))\n",
    "not_in = []\n",
    "for i in name_test:\n",
    "    if i in name_train:\n",
    "        not_in.append(i)\n",
    "print(len(not_in))\n",
    "print(227+144)\n",
    "print(len(name_test))"
   ]
  },
  {
   "cell_type": "markdown",
   "metadata": {},
   "source": [
    "# Naive solution"
   ]
  },
  {
   "cell_type": "code",
   "execution_count": 69,
   "metadata": {},
   "outputs": [
    {
     "name": "stdout",
     "output_type": "stream",
     "text": [
      "10067.975003749127\n"
     ]
    }
   ],
   "source": [
    "result = np.random.normal(loc = 50.344008, scale = 26.795277, size = (70257,))\n",
    "target = np.array(df_train.wind_speed)\n",
    "RMSE = np.sqrt(np.sum((result-target)**2))\n",
    "print(RMSE)"
   ]
  },
  {
   "cell_type": "markdown",
   "metadata": {},
   "source": [
    "# Back to work"
   ]
  },
  {
   "cell_type": "code",
   "execution_count": 72,
   "metadata": {},
   "outputs": [
    {
     "data": {
      "text/plain": [
       "<AxesSubplot:xlabel='wind_speed', ylabel='Density'>"
      ]
     },
     "execution_count": 72,
     "metadata": {},
     "output_type": "execute_result"
    },
    {
     "data": {
      "image/png": "[encoded data removed]",
      "text/plain": [
       "<Figure size 432x288 with 1 Axes>"
      ]
     },
     "metadata": {
      "needs_background": "light"
     },
     "output_type": "display_data"
    }
   ],
   "source": [
    "sns.distplot(df_train['wind_speed'])"
   ]
  },
  {
   "cell_type": "code",
   "execution_count": 75,
   "metadata": {},
   "outputs": [
    {
     "data": {
      "image/png": "[encoded data removed]",
      "text/plain": [
       "<Figure size 432x288 with 1 Axes>"
      ]
     },
     "metadata": {
      "needs_background": "light"
     },
     "output_type": "display_data"
    }
   ],
   "source": [
    "var = 'storm_id'\n",
    "data = pd.concat([df_train['wind_speed'], df_train[var]], axis=1)\n",
    "data.plot.scatter(x=var, y='wind_speed')"
   ]
  },
  {
   "cell_type": "code",
   "execution_count": 20,
   "metadata": {},
   "outputs": [
    {
     "name": "stdout",
     "output_type": "stream",
     "text": [
      "(366, 366, 3)\n",
      "(128, 128, 3)\n"
     ]
    }
   ],
   "source": [
    "from albumentations import CenterCrop\n",
    "# from torchvision.transforms import CenterCrop\n",
    "# transform = CenterCrop(128)\n",
    "from PIL import Image\n",
    "import cv2\n",
    "from matplotlib import pyplot as plt\n",
    "\n",
    "transform = CenterCrop(128,128)\n",
    "path = '/home/giang/Desktop/Wind_data/train/abs_000.jpg'\n",
    "# image = Image.open(path)\n",
    "image = cv2.imread(path)\n",
    "print(image.shape)\n",
    "image = transform(image=image)['image']\n",
    "print(image.shape)\n",
    "# plt.imshow(image, cmap = 'gray')\n",
    "# plt.subplot(image, cmap = 'gray')"
   ]
  },
  {
   "cell_type": "markdown",
   "metadata": {},
   "source": [
    "# For predict"
   ]
  },
  {
   "cell_type": "code",
   "execution_count": 31,
   "metadata": {},
   "outputs": [],
   "source": [
    "import numpy as np\n",
    "import pandas as pd\n",
    "\n",
    "path = './../sub1.csv'\n",
    "df = pd.read_csv(path)\n",
    "wind_speed = list(df.wind_speed)\n",
    "temp = [int(i[1:-1]) for i in wind_speed]\n",
    "df.wind_speed = temp\n",
    "df.to_csv('sub1.csv', index = False)"
   ]
  },
  {
   "cell_type": "markdown",
   "metadata": {},
   "source": [
    "# Merge csv"
   ]
  },
  {
   "cell_type": "code",
   "execution_count": 35,
   "metadata": {},
   "outputs": [],
   "source": [
    "import pandas as pd\n",
    "\n",
    "df1 = pd.read_csv('./../data/training_set_features.csv')\n",
    "df2 = pd.read_csv('./../data/training_set_labels.csv')\n",
    "\n",
    "df = pd.merge(df1,df2, on = 'image_id')\n",
    "df.to_csv('./../data/train.csv')"
   ]
  },
  {
   "cell_type": "markdown",
   "metadata": {},
   "source": [
    "# Split data"
   ]
  },
  {
   "cell_type": "code",
   "execution_count": 46,
   "metadata": {},
   "outputs": [
    {
     "name": "stdout",
     "output_type": "stream",
     "text": [
      "20.066327910386153\n"
     ]
    }
   ],
   "source": [
    "# def wind_split(df):\n",
    "#     return None\n",
    "    \n",
    "# wind_split(df)\n",
    "full_metadata = df.copy()\n",
    "images_per_storm = full_metadata.groupby(\"storm_id\").size().to_frame(\"images_per_storm\")\n",
    "full_metadata = full_metadata.merge(images_per_storm, how=\"left\", on=\"storm_id\")\n",
    "full_metadata[\"pct_of_storm\"] = (\n",
    "    full_metadata.groupby(\"storm_id\").cumcount() / full_metadata.images_per_storm\n",
    ")\n",
    "train = full_metadata[np.logical_and(0.1 < full_metadata.pct_of_storm, full_metadata.pct_of_storm < 0.9)].drop(\n",
    "    [\"images_per_storm\", \"pct_of_storm\"], axis=1\n",
    ")\n",
    "val = full_metadata[np.logical_or(full_metadata.pct_of_storm >= 0.9, full_metadata.pct_of_storm <= 0.1)].drop(\n",
    "    [\"images_per_storm\", \"pct_of_storm\"], axis=1\n",
    ")\n",
    "\n",
    "print(len(val) / len(full_metadata) * 100)"
   ]
  },
  {
   "cell_type": "code",
   "execution_count": 47,
   "metadata": {},
   "outputs": [],
   "source": [
    "train.to_csv('./../data/train_10first_10last.csv')\n",
    "val.to_csv('./../data/val_10first_10last.csv')"
   ]
  },
  {
   "cell_type": "markdown",
   "metadata": {},
   "source": [
    "# Target for anchor"
   ]
  },
  {
   "cell_type": "code",
   "execution_count": 26,
   "metadata": {},
   "outputs": [
    {
     "name": "stdout",
     "output_type": "stream",
     "text": [
      "(56159,) (14098,)\n",
      "   Unnamed: 0  Unnamed: 0.1 image_id storm_id  relative_time  ocean  \\\n",
      "0           0             6  abs_006      abs          34199      2   \n",
      "1           1             7  abs_007      abs          37799      2   \n",
      "2           2             8  abs_008      abs          39599      2   \n",
      "3           3             9  abs_009      abs          41399      2   \n",
      "4           4            10  abs_010      abs          43199      2   \n",
      "\n",
      "   wind_speed  exp_wind  \n",
      "0          63  0.224255  \n",
      "1          65  0.255508  \n",
      "2          65  0.255508  \n",
      "3          65  0.255508  \n",
      "4          65  0.255508  \n"
     ]
    }
   ],
   "source": [
    "import pandas as pd\n",
    "import numpy as np\n",
    "\n",
    "train = pd.read_csv('./../data/train_10first_10last.csv')\n",
    "val = pd.read_csv('./../data/val_10first_10last.csv')\n",
    "\n",
    "train.drop('mean', inplace = True, axis = 1)\n",
    "val.drop('mean', inplace = True, axis = 1)\n",
    "\n",
    "wind_train = np.array(train.wind_speed)\n",
    "wind_val = np.array(val.wind_speed)\n",
    "print(wind_train.shape, wind_val.shape)\n",
    "print(train.head())"
   ]
  },
  {
   "cell_type": "code",
   "execution_count": 27,
   "metadata": {},
   "outputs": [
    {
     "name": "stdout",
     "output_type": "stream",
     "text": [
      "   Unnamed: 0  Unnamed: 0.1 image_id storm_id  relative_time  ocean  \\\n",
      "0           0             6  abs_006      abs          34199      2   \n",
      "1           1             7  abs_007      abs          37799      2   \n",
      "2           2             8  abs_008      abs          39599      2   \n",
      "3           3             9  abs_009      abs          41399      2   \n",
      "4           4            10  abs_010      abs          43199      2   \n",
      "\n",
      "   wind_speed  exp_wind  mean_wind  \n",
      "0          63  0.224255  50.344008  \n",
      "1          65  0.255508  50.344008  \n",
      "2          65  0.255508  50.344008  \n",
      "3          65  0.255508  50.344008  \n",
      "4          65  0.255508  50.344008  \n"
     ]
    }
   ],
   "source": [
    "yasuo = np.concatenate((wind_train, wind_val))\n",
    "mean = np.mean(yasuo)\n",
    "train['mean_wind'] = np.mean(yasuo)\n",
    "val['mean_wind'] = np.mean(yasuo)\n",
    "print(train.head())"
   ]
  },
  {
   "cell_type": "code",
   "execution_count": 28,
   "metadata": {},
   "outputs": [],
   "source": [
    "# get exponential, formula: anchor * exp(t)\n",
    "train_exp_target = np.log(wind_train/mean)\n",
    "val_exp_target = np.log(wind_val/mean)\n",
    "\n",
    "train['exp_wind'] = train_exp_target\n",
    "val['exp_wind'] = val_exp_target"
   ]
  },
  {
   "cell_type": "code",
   "execution_count": 29,
   "metadata": {},
   "outputs": [],
   "source": [
    "train.to_csv('./../data/train_10first_10last.csv')\n",
    "val.to_csv('./../data/val_10first_10last.csv')"
   ]
  },
  {
   "cell_type": "code",
   "execution_count": 17,
   "metadata": {},
   "outputs": [
    {
     "data": {
      "text/plain": [
       "10.0"
      ]
     },
     "execution_count": 17,
     "metadata": {},
     "output_type": "execute_result"
    }
   ],
   "source": [
    "np.log(np.exp(10))"
   ]
  },
  {
   "cell_type": "markdown",
   "metadata": {},
   "source": [
    "# K-Nearest-Neighbors"
   ]
  },
  {
   "cell_type": "code",
   "execution_count": null,
   "metadata": {},
   "outputs": [],
   "source": [
    "from sklearn.neighbors import NearestNeighbors\n",
    "import numpy as np"
   ]
  },
  {
   "cell_type": "code",
   "execution_count": null,
   "metadata": {},
   "outputs": [],
   "source": []
  },
  {
   "cell_type": "code",
   "execution_count": null,
   "metadata": {},
   "outputs": [],
   "source": []
  },
  {
   "cell_type": "markdown",
   "metadata": {},
   "source": [
    "# Plot result"
   ]
  },
  {
   "cell_type": "code",
   "execution_count": 1,
   "metadata": {},
   "outputs": [],
   "source": [
    "import pickle\n",
    "\n",
    "path1 = './../plot.pkl'\n",
    "# path2 = './../plot1.pkl'\n",
    "with open(path1, 'rb') as f:\n",
    "    data1 = pickle.load(f)\n",
    "# with open(path2, 'rb') as f:\n",
    "#     data2 = pickle.load(f)\n"
   ]
  },
  {
   "cell_type": "code",
   "execution_count": 2,
   "metadata": {},
   "outputs": [
    {
     "name": "stdout",
     "output_type": "stream",
     "text": [
      "31\n",
      "31\n"
     ]
    }
   ],
   "source": [
    "data1['train'].extend(data2['train'])\n",
    "train = data1['train']\n",
    "data1['val'].extend(data2['val'])\n",
    "val = data1['val']\n",
    "print(len(train))\n",
    "print(len(val))"
   ]
  },
  {
   "cell_type": "code",
   "execution_count": 4,
   "metadata": {},
   "outputs": [
    {
     "name": "stdout",
     "output_type": "stream",
     "text": [
      "[33.328740363251676, 23.44023960638264, 23.453945074995904, 23.469075149052763, 23.482066996565692, 23.49260688753433, 23.500851246864283]\n"
     ]
    }
   ],
   "source": [
    "train = data1['train']\n",
    "print(train)\n",
    "val = data1['val']"
   ]
  },
  {
   "cell_type": "code",
   "execution_count": 5,
   "metadata": {},
   "outputs": [
    {
     "data": {
      "text/plain": [
       "[<matplotlib.lines.Line2D at 0x7fa078b73d10>]"
      ]
     },
     "execution_count": 5,
     "metadata": {},
     "output_type": "execute_result"
    },
    {
     "data": {
      "image/png": "[encoded data removed]",
      "text/plain": [
       "<Figure size 432x288 with 1 Axes>"
      ]
     },
     "metadata": {
      "needs_background": "light"
     },
     "output_type": "display_data"
    }
   ],
   "source": [
    "from matplotlib import pyplot as plt\n",
    "\n",
    "x = range(7)\n",
    "plt.plot(x,train)\n",
    "plt.plot(x,val)"
   ]
  },
  {
   "cell_type": "code",
   "execution_count": 14,
   "metadata": {},
   "outputs": [
    {
     "name": "stdout",
     "output_type": "stream",
     "text": [
      "[20.106723709539935, 20.080499730326913, 19.969507486169988, 19.919396662712096, 20.102700117501346, 20.162262190471996, 19.973293416066603, 19.95562289953232, 20.017005703665994, 19.924877193841066, 19.96908176053654, 20.125784344022925, 19.9118727423928, 19.837658435648137, 19.965400849689136, 19.872442828525198, 19.852062222090634, 19.845361615311017, 43.903474710204385, 25.21971628882668, 24.82378513162786, 23.817815845662896, 22.791993912783536, 22.19983672662215, 21.910002964193172, 21.23241101178256, 20.78900581923398, 20.649914464083587, 20.453947546265344, 20.40225264267488, 20.397677899490702]\n"
     ]
    }
   ],
   "source": [
    "print(train)"
   ]
  },
  {
   "cell_type": "code",
   "execution_count": 13,
   "metadata": {},
   "outputs": [],
   "source": [
    "import cv2\n",
    "path = '/home/giang/Downloads/1.jpg'\n",
    "image = cv2.imread(path)\n",
    "\n",
    "h,w,_ = image.shape\n",
    "\n",
    "out_path = '/home/giang/Desktop/video.mp4'\n",
    "out1 = cv2.VideoWriter(out_path,cv2.VideoWriter_fourcc('M','J','P','G'), 5, (w,h))\n",
    "\n",
    "count = 0\n",
    "while True:\n",
    "    out1.write(image)\n",
    "    count+=1\n",
    "    if count == 125:\n",
    "        break\n",
    "out1.release()\n",
    "        "
   ]
  },
  {
   "cell_type": "markdown",
   "metadata": {},
   "source": [
    "# Divide data as Driven Benchmark"
   ]
  },
  {
   "cell_type": "code",
   "execution_count": 10,
   "metadata": {},
   "outputs": [],
   "source": [
    "data_root = '/home/giang/Desktop/Wind_data/'"
   ]
  },
  {
   "cell_type": "code",
   "execution_count": 11,
   "metadata": {},
   "outputs": [],
   "source": [
    "train_metadata = pd.read_csv(data_root + \"training_set_features.csv\")\n",
    "train_labels = pd.read_csv(data_root + \"training_set_labels.csv\")\n",
    "full_metadata = train_metadata.merge(train_labels, on=\"image_id\")\n"
   ]
  },
  {
   "cell_type": "code",
   "execution_count": 12,
   "metadata": {},
   "outputs": [],
   "source": [
    "prefix = data_root + 'train/'\n",
    "path = []\n",
    "for i in full_metadata.image_id:\n",
    "    path.append(prefix + i + '.jpg')"
   ]
  },
  {
   "cell_type": "code",
   "execution_count": 13,
   "metadata": {},
   "outputs": [
    {
     "data": {
      "text/html": [
       "<div>\n",
       "<style scoped>\n",
       "    .dataframe tbody tr th:only-of-type {\n",
       "        vertical-align: middle;\n",
       "    }\n",
       "\n",
       "    .dataframe tbody tr th {\n",
       "        vertical-align: top;\n",
       "    }\n",
       "\n",
       "    .dataframe thead th {\n",
       "        text-align: right;\n",
       "    }\n",
       "</style>\n",
       "<table border=\"1\" class=\"dataframe\">\n",
       "  <thead>\n",
       "    <tr style=\"text-align: right;\">\n",
       "      <th></th>\n",
       "      <th>image_id</th>\n",
       "      <th>storm_id</th>\n",
       "      <th>relative_time</th>\n",
       "      <th>ocean</th>\n",
       "      <th>wind_speed</th>\n",
       "      <th>image_path</th>\n",
       "    </tr>\n",
       "  </thead>\n",
       "  <tbody>\n",
       "    <tr>\n",
       "      <th>0</th>\n",
       "      <td>abs_000</td>\n",
       "      <td>abs</td>\n",
       "      <td>0</td>\n",
       "      <td>2</td>\n",
       "      <td>43</td>\n",
       "      <td>/home/giang/Desktop/Wind_data/train/abs_000.jpg</td>\n",
       "    </tr>\n",
       "    <tr>\n",
       "      <th>1</th>\n",
       "      <td>abs_001</td>\n",
       "      <td>abs</td>\n",
       "      <td>1800</td>\n",
       "      <td>2</td>\n",
       "      <td>44</td>\n",
       "      <td>/home/giang/Desktop/Wind_data/train/abs_001.jpg</td>\n",
       "    </tr>\n",
       "    <tr>\n",
       "      <th>2</th>\n",
       "      <td>abs_002</td>\n",
       "      <td>abs</td>\n",
       "      <td>5400</td>\n",
       "      <td>2</td>\n",
       "      <td>45</td>\n",
       "      <td>/home/giang/Desktop/Wind_data/train/abs_002.jpg</td>\n",
       "    </tr>\n",
       "    <tr>\n",
       "      <th>3</th>\n",
       "      <td>abs_003</td>\n",
       "      <td>abs</td>\n",
       "      <td>17999</td>\n",
       "      <td>2</td>\n",
       "      <td>52</td>\n",
       "      <td>/home/giang/Desktop/Wind_data/train/abs_003.jpg</td>\n",
       "    </tr>\n",
       "    <tr>\n",
       "      <th>4</th>\n",
       "      <td>abs_004</td>\n",
       "      <td>abs</td>\n",
       "      <td>19799</td>\n",
       "      <td>2</td>\n",
       "      <td>53</td>\n",
       "      <td>/home/giang/Desktop/Wind_data/train/abs_004.jpg</td>\n",
       "    </tr>\n",
       "  </tbody>\n",
       "</table>\n",
       "</div>"
      ],
      "text/plain": [
       "  image_id storm_id  relative_time  ocean  wind_speed  \\\n",
       "0  abs_000      abs              0      2          43   \n",
       "1  abs_001      abs           1800      2          44   \n",
       "2  abs_002      abs           5400      2          45   \n",
       "3  abs_003      abs          17999      2          52   \n",
       "4  abs_004      abs          19799      2          53   \n",
       "\n",
       "                                        image_path  \n",
       "0  /home/giang/Desktop/Wind_data/train/abs_000.jpg  \n",
       "1  /home/giang/Desktop/Wind_data/train/abs_001.jpg  \n",
       "2  /home/giang/Desktop/Wind_data/train/abs_002.jpg  \n",
       "3  /home/giang/Desktop/Wind_data/train/abs_003.jpg  \n",
       "4  /home/giang/Desktop/Wind_data/train/abs_004.jpg  "
      ]
     },
     "execution_count": 13,
     "metadata": {},
     "output_type": "execute_result"
    }
   ],
   "source": [
    "full_metadata['image_path'] = path\n",
    "full_metadata.head()"
   ]
  },
  {
   "cell_type": "code",
   "execution_count": 14,
   "metadata": {},
   "outputs": [],
   "source": [
    "images_per_storm = full_metadata.groupby(\"storm_id\").size().to_frame(\"images_per_storm\")\n",
    "full_metadata = full_metadata.merge(images_per_storm, how=\"left\", on=\"storm_id\")\n",
    "full_metadata[\"pct_of_storm\"] = (\n",
    "    full_metadata.groupby(\"storm_id\").cumcount() / full_metadata.images_per_storm\n",
    ")\n",
    "train = full_metadata[full_metadata.pct_of_storm < 0.8].drop(\n",
    "    [\"images_per_storm\", \"pct_of_storm\"], axis=1\n",
    ")\n",
    "val = full_metadata[full_metadata.pct_of_storm >= 0.8].drop(\n",
    "    [\"images_per_storm\", \"pct_of_storm\"], axis=1\n",
    ")"
   ]
  },
  {
   "cell_type": "code",
   "execution_count": 15,
   "metadata": {},
   "outputs": [
    {
     "data": {
      "text/plain": [
       "19.734688358455386"
      ]
     },
     "execution_count": 15,
     "metadata": {},
     "output_type": "execute_result"
    }
   ],
   "source": [
    "len(val) / len(full_metadata) * 100"
   ]
  },
  {
   "cell_type": "code",
   "execution_count": 16,
   "metadata": {},
   "outputs": [
    {
     "name": "stdout",
     "output_type": "stream",
     "text": [
      "(5639, 6)\n",
      "(1386, 6)\n",
      "<class 'pandas.core.frame.DataFrame'>\n"
     ]
    }
   ],
   "source": [
    "short_train = train.sample(frac=0.1, replace=False, random_state=1)\n",
    "print(short_train.shape)\n",
    "short_val = val.sample(frac=0.1, replace=False, random_state=1)\n",
    "print(short_val.shape)\n",
    "print(type(short_val))"
   ]
  },
  {
   "cell_type": "code",
   "execution_count": 17,
   "metadata": {},
   "outputs": [],
   "source": [
    "short_train.to_csv(data_root + 'reproduce/twenty_percent_train.csv')\n",
    "short_val.to_csv(data_root + 'reproduce/twenty_percent_val.csv')"
   ]
  },
  {
   "cell_type": "code",
   "execution_count": 16,
   "metadata": {},
   "outputs": [],
   "source": [
    "train.to_csv(data_root + 'reproduce/train.csv')\n",
    "val.to_csv(data_root + 'reproduce/val.csv')"
   ]
  },
  {
   "cell_type": "markdown",
   "metadata": {},
   "source": [
    "# Divide data with strategy: first 10 percent and last 10 percent for each storm\n",
    "\n",
    "At first, because of the wrong of the code, I think that this distribution is not good and even I still think it is not good now. However, after 4 submissions, the loss of validation is really near to public score, so I decide to keep this data distribution"
   ]
  },
  {
   "cell_type": "code",
   "execution_count": 13,
   "metadata": {},
   "outputs": [],
   "source": [
    "import pandas as pd\n",
    "import numpy as np"
   ]
  },
  {
   "cell_type": "code",
   "execution_count": 14,
   "metadata": {},
   "outputs": [],
   "source": [
    "images_per_storm = full_metadata.groupby(\"storm_id\").size().to_frame(\"images_per_storm\")\n",
    "full_metadata = full_metadata.merge(images_per_storm, how=\"left\", on=\"storm_id\")\n",
    "full_metadata[\"pct_of_storm\"] = (\n",
    "    full_metadata.groupby(\"storm_id\").cumcount() / full_metadata.images_per_storm\n",
    ")\n",
    "train = full_metadata[np.logical_and(full_metadata.pct_of_storm > 0.1, full_metadata.pct_of_storm < 0.9)].drop(\n",
    "    [\"images_per_storm\", \"pct_of_storm\"], axis=1\n",
    ")\n",
    "val = full_metadata[np.logical_or(full_metadata.pct_of_storm <= 0.1, full_metadata.pct_of_storm >= 0.9)].drop(\n",
    "    [\"images_per_storm\", \"pct_of_storm\"], axis=1\n",
    ")"
   ]
  },
  {
   "cell_type": "code",
   "execution_count": 20,
   "metadata": {},
   "outputs": [],
   "source": [
    "train.to_csv('/home/giang/Desktop/wind_predict/data/official_train.csv', index=False)\n",
    "val.to_csv('/home/giang/Desktop/wind_predict/data/official_val.csv', index=False)"
   ]
  },
  {
   "cell_type": "markdown",
   "metadata": {},
   "source": [
    "# For test"
   ]
  },
  {
   "cell_type": "code",
   "execution_count": 2,
   "metadata": {},
   "outputs": [],
   "source": [
    "data_root = '/home/giang/Desktop/Wind_data/'\n",
    "full_metadata = pd.read_csv(data_root + 'test_set_features.csv')\n"
   ]
  },
  {
   "cell_type": "code",
   "execution_count": 3,
   "metadata": {},
   "outputs": [],
   "source": [
    "prefix = data_root + 'test/'\n",
    "path = []\n",
    "for i in full_metadata.image_id:\n",
    "    path.append(prefix + i + '.jpg')"
   ]
  },
  {
   "cell_type": "code",
   "execution_count": 4,
   "metadata": {},
   "outputs": [
    {
     "data": {
      "text/html": [
       "<div>\n",
       "<style scoped>\n",
       "    .dataframe tbody tr th:only-of-type {\n",
       "        vertical-align: middle;\n",
       "    }\n",
       "\n",
       "    .dataframe tbody tr th {\n",
       "        vertical-align: top;\n",
       "    }\n",
       "\n",
       "    .dataframe thead th {\n",
       "        text-align: right;\n",
       "    }\n",
       "</style>\n",
       "<table border=\"1\" class=\"dataframe\">\n",
       "  <thead>\n",
       "    <tr style=\"text-align: right;\">\n",
       "      <th></th>\n",
       "      <th>image_id</th>\n",
       "      <th>storm_id</th>\n",
       "      <th>relative_time</th>\n",
       "      <th>ocean</th>\n",
       "      <th>image_path</th>\n",
       "    </tr>\n",
       "  </thead>\n",
       "  <tbody>\n",
       "    <tr>\n",
       "      <th>0</th>\n",
       "      <td>acd_123</td>\n",
       "      <td>acd</td>\n",
       "      <td>304198</td>\n",
       "      <td>1</td>\n",
       "      <td>/home/giang/Desktop/Wind_data/test/acd_123.jpg</td>\n",
       "    </tr>\n",
       "    <tr>\n",
       "      <th>1</th>\n",
       "      <td>acd_124</td>\n",
       "      <td>acd</td>\n",
       "      <td>305998</td>\n",
       "      <td>1</td>\n",
       "      <td>/home/giang/Desktop/Wind_data/test/acd_124.jpg</td>\n",
       "    </tr>\n",
       "    <tr>\n",
       "      <th>2</th>\n",
       "      <td>acd_125</td>\n",
       "      <td>acd</td>\n",
       "      <td>307798</td>\n",
       "      <td>1</td>\n",
       "      <td>/home/giang/Desktop/Wind_data/test/acd_125.jpg</td>\n",
       "    </tr>\n",
       "    <tr>\n",
       "      <th>3</th>\n",
       "      <td>acd_126</td>\n",
       "      <td>acd</td>\n",
       "      <td>309598</td>\n",
       "      <td>1</td>\n",
       "      <td>/home/giang/Desktop/Wind_data/test/acd_126.jpg</td>\n",
       "    </tr>\n",
       "    <tr>\n",
       "      <th>4</th>\n",
       "      <td>acd_127</td>\n",
       "      <td>acd</td>\n",
       "      <td>313198</td>\n",
       "      <td>1</td>\n",
       "      <td>/home/giang/Desktop/Wind_data/test/acd_127.jpg</td>\n",
       "    </tr>\n",
       "  </tbody>\n",
       "</table>\n",
       "</div>"
      ],
      "text/plain": [
       "  image_id storm_id  relative_time  ocean  \\\n",
       "0  acd_123      acd         304198      1   \n",
       "1  acd_124      acd         305998      1   \n",
       "2  acd_125      acd         307798      1   \n",
       "3  acd_126      acd         309598      1   \n",
       "4  acd_127      acd         313198      1   \n",
       "\n",
       "                                       image_path  \n",
       "0  /home/giang/Desktop/Wind_data/test/acd_123.jpg  \n",
       "1  /home/giang/Desktop/Wind_data/test/acd_124.jpg  \n",
       "2  /home/giang/Desktop/Wind_data/test/acd_125.jpg  \n",
       "3  /home/giang/Desktop/Wind_data/test/acd_126.jpg  \n",
       "4  /home/giang/Desktop/Wind_data/test/acd_127.jpg  "
      ]
     },
     "execution_count": 4,
     "metadata": {},
     "output_type": "execute_result"
    }
   ],
   "source": [
    "full_metadata['image_path'] = path\n",
    "full_metadata.head()"
   ]
  },
  {
   "cell_type": "code",
   "execution_count": 5,
   "metadata": {},
   "outputs": [],
   "source": [
    "full_metadata.to_csv('/home/giang/Desktop/wind_predict/data/official_test.csv', index=False)"
   ]
  },
  {
   "cell_type": "markdown",
   "metadata": {},
   "source": [
    "# Calculate new exponential target"
   ]
  },
  {
   "cell_type": "code",
   "execution_count": 2,
   "metadata": {},
   "outputs": [
    {
     "data": {
      "text/html": [
       "<div>\n",
       "<style scoped>\n",
       "    .dataframe tbody tr th:only-of-type {\n",
       "        vertical-align: middle;\n",
       "    }\n",
       "\n",
       "    .dataframe tbody tr th {\n",
       "        vertical-align: top;\n",
       "    }\n",
       "\n",
       "    .dataframe thead th {\n",
       "        text-align: right;\n",
       "    }\n",
       "</style>\n",
       "<table border=\"1\" class=\"dataframe\">\n",
       "  <thead>\n",
       "    <tr style=\"text-align: right;\">\n",
       "      <th></th>\n",
       "      <th>image_id</th>\n",
       "      <th>storm_id</th>\n",
       "      <th>relative_time</th>\n",
       "      <th>ocean</th>\n",
       "      <th>wind_speed</th>\n",
       "      <th>image_path</th>\n",
       "    </tr>\n",
       "  </thead>\n",
       "  <tbody>\n",
       "    <tr>\n",
       "      <th>0</th>\n",
       "      <td>abs_006</td>\n",
       "      <td>abs</td>\n",
       "      <td>34199</td>\n",
       "      <td>2</td>\n",
       "      <td>63</td>\n",
       "      <td>/home/giang/Desktop/Wind_data/train/abs_006.jpg</td>\n",
       "    </tr>\n",
       "    <tr>\n",
       "      <th>1</th>\n",
       "      <td>abs_007</td>\n",
       "      <td>abs</td>\n",
       "      <td>37799</td>\n",
       "      <td>2</td>\n",
       "      <td>65</td>\n",
       "      <td>/home/giang/Desktop/Wind_data/train/abs_007.jpg</td>\n",
       "    </tr>\n",
       "    <tr>\n",
       "      <th>2</th>\n",
       "      <td>abs_008</td>\n",
       "      <td>abs</td>\n",
       "      <td>39599</td>\n",
       "      <td>2</td>\n",
       "      <td>65</td>\n",
       "      <td>/home/giang/Desktop/Wind_data/train/abs_008.jpg</td>\n",
       "    </tr>\n",
       "    <tr>\n",
       "      <th>3</th>\n",
       "      <td>abs_009</td>\n",
       "      <td>abs</td>\n",
       "      <td>41399</td>\n",
       "      <td>2</td>\n",
       "      <td>65</td>\n",
       "      <td>/home/giang/Desktop/Wind_data/train/abs_009.jpg</td>\n",
       "    </tr>\n",
       "    <tr>\n",
       "      <th>4</th>\n",
       "      <td>abs_010</td>\n",
       "      <td>abs</td>\n",
       "      <td>43199</td>\n",
       "      <td>2</td>\n",
       "      <td>65</td>\n",
       "      <td>/home/giang/Desktop/Wind_data/train/abs_010.jpg</td>\n",
       "    </tr>\n",
       "  </tbody>\n",
       "</table>\n",
       "</div>"
      ],
      "text/plain": [
       "  image_id storm_id  relative_time  ocean  wind_speed  \\\n",
       "0  abs_006      abs          34199      2          63   \n",
       "1  abs_007      abs          37799      2          65   \n",
       "2  abs_008      abs          39599      2          65   \n",
       "3  abs_009      abs          41399      2          65   \n",
       "4  abs_010      abs          43199      2          65   \n",
       "\n",
       "                                        image_path  \n",
       "0  /home/giang/Desktop/Wind_data/train/abs_006.jpg  \n",
       "1  /home/giang/Desktop/Wind_data/train/abs_007.jpg  \n",
       "2  /home/giang/Desktop/Wind_data/train/abs_008.jpg  \n",
       "3  /home/giang/Desktop/Wind_data/train/abs_009.jpg  \n",
       "4  /home/giang/Desktop/Wind_data/train/abs_010.jpg  "
      ]
     },
     "execution_count": 2,
     "metadata": {},
     "output_type": "execute_result"
    }
   ],
   "source": [
    "df_train = pd.read_csv('/home/giang/Desktop/wind_predict/data/official_train.csv')\n",
    "df_val = pd.read_csv('/home/giang/Desktop/wind_predict/data/official_val.csv')\n",
    "df_train.head()"
   ]
  },
  {
   "cell_type": "code",
   "execution_count": 7,
   "metadata": {},
   "outputs": [
    {
     "name": "stdout",
     "output_type": "stream",
     "text": [
      "(70257,) 50.34400842620664\n"
     ]
    }
   ],
   "source": [
    "wind_train = np.array(df_train.wind_speed).astype(np.float64)\n",
    "wind_val = np.array(df_val.wind_speed).astype(np.float64)\n",
    "concate = np.concatenate((wind_train, wind_val), axis = 0)\n",
    "mean = np.mean(concate)\n",
    "print(concate.shape, mean)"
   ]
  },
  {
   "cell_type": "code",
   "execution_count": 11,
   "metadata": {},
   "outputs": [],
   "source": [
    "new_target_train = np.log(wind_train/mean)\n",
    "new_target_val = np.log(wind_val/mean)"
   ]
  },
  {
   "cell_type": "code",
   "execution_count": 12,
   "metadata": {},
   "outputs": [],
   "source": [
    "df_train['exp_wind'] = new_target_train\n",
    "df_val['exp_wind'] = new_target_val"
   ]
  },
  {
   "cell_type": "code",
   "execution_count": 13,
   "metadata": {},
   "outputs": [],
   "source": [
    "df_train.to_csv('/home/giang/Desktop/wind_predict/data/official_train.csv', index=False)\n",
    "df_val.to_csv('/home/giang/Desktop/wind_predict/data/official_val.csv', index=False)"
   ]
  },
  {
   "cell_type": "markdown",
   "metadata": {},
   "source": [
    "# K-mean-clustering"
   ]
  },
  {
   "cell_type": "code",
   "execution_count": 15,
   "metadata": {},
   "outputs": [],
   "source": [
    "from sklearn.cluster import KMeans\n",
    "import numpy as np\n",
    "import pandas as pd"
   ]
  },
  {
   "cell_type": "code",
   "execution_count": 18,
   "metadata": {},
   "outputs": [
    {
     "name": "stdout",
     "output_type": "stream",
     "text": [
      "(70257,)\n"
     ]
    }
   ],
   "source": [
    "path = '/home/giang/Desktop/wind_predict/data/addition/training_set_labels.csv'\n",
    "df = pd.read_csv(path)\n",
    "data = np.array(df.wind_speed)\n",
    "print(data.shape)"
   ]
  },
  {
   "cell_type": "code",
   "execution_count": 21,
   "metadata": {},
   "outputs": [
    {
     "data": {
      "text/plain": [
       "count    70257.000000\n",
       "mean        50.344008\n",
       "std         26.795277\n",
       "min         15.000000\n",
       "25%         30.000000\n",
       "50%         43.000000\n",
       "75%         62.000000\n",
       "max        185.000000\n",
       "Name: wind_speed, dtype: float64"
      ]
     },
     "execution_count": 21,
     "metadata": {},
     "output_type": "execute_result"
    }
   ],
   "source": [
    "df.wind_speed.describe()\n"
   ]
  },
  {
   "cell_type": "code",
   "execution_count": null,
   "metadata": {},
   "outputs": [],
   "source": []
  },
  {
   "cell_type": "code",
   "execution_count": null,
   "metadata": {},
   "outputs": [],
   "source": []
  },
  {
   "cell_type": "code",
   "execution_count": null,
   "metadata": {},
   "outputs": [],
   "source": []
  },
  {
   "cell_type": "code",
   "execution_count": null,
   "metadata": {},
   "outputs": [],
   "source": []
  },
  {
   "cell_type": "code",
   "execution_count": null,
   "metadata": {},
   "outputs": [],
   "source": []
  },
  {
   "cell_type": "code",
   "execution_count": null,
   "metadata": {},
   "outputs": [],
   "source": []
  },
  {
   "cell_type": "code",
   "execution_count": null,
   "metadata": {},
   "outputs": [],
   "source": []
  },
  {
   "cell_type": "code",
   "execution_count": null,
   "metadata": {},
   "outputs": [],
   "source": []
  },
  {
   "cell_type": "code",
   "execution_count": null,
   "metadata": {},
   "outputs": [],
   "source": []
  },
  {
   "cell_type": "code",
   "execution_count": null,
   "metadata": {},
   "outputs": [],
   "source": []
  },
  {
   "cell_type": "code",
   "execution_count": null,
   "metadata": {},
   "outputs": [],
   "source": []
  },
  {
   "cell_type": "code",
   "execution_count": null,
   "metadata": {},
   "outputs": [],
   "source": []
  },
  {
   "cell_type": "code",
   "execution_count": null,
   "metadata": {},
   "outputs": [],
   "source": []
  },
  {
   "cell_type": "code",
   "execution_count": null,
   "metadata": {},
   "outputs": [],
   "source": []
  },
  {
   "cell_type": "code",
   "execution_count": null,
   "metadata": {},
   "outputs": [],
   "source": []
  }
 ],
 "metadata": {
  "kernelspec": {
   "display_name": "Python 3",
   "language": "python",
   "name": "python3"
  },
  "language_info": {
   "codemirror_mode": {
    "name": "ipython",
    "version": 3
   },
   "file_extension": ".py",
   "mimetype": "text/x-python",
   "name": "python",
   "nbconvert_exporter": "python",
   "pygments_lexer": "ipython3",
   "version": "3.7.9"
  }
 },
 "nbformat": 4,
 "nbformat_minor": 4
}
